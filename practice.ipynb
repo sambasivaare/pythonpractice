{
 "cells": [
  {
   "cell_type": "code",
   "execution_count": 1,
   "id": "e576df4c",
   "metadata": {},
   "outputs": [
    {
     "name": "stdout",
     "output_type": "stream",
     "text": [
      "Person name is samba\n",
      "person gender is male\n",
      "person location is hyderabad\n"
     ]
    }
   ],
   "source": [
    "name='samba'\n",
    "gender='male'\n",
    "location='hyderabad'\n",
    "print('Person name is',name)\n",
    "print('person gender is',gender)\n",
    "print('person location is',location)"
   ]
  },
  {
   "cell_type": "code",
   "execution_count": 3,
   "id": "589fd248",
   "metadata": {},
   "outputs": [
    {
     "name": "stdout",
     "output_type": "stream",
     "text": [
      "person name is  samba , gender is male and location is hyderabad\n"
     ]
    }
   ],
   "source": [
    "print('person name is ',name,', gender is',gender,'and location is',location)"
   ]
  },
  {
   "cell_type": "code",
   "execution_count": 4,
   "id": "3d08b6d5",
   "metadata": {},
   "outputs": [
    {
     "data": {
      "text/plain": [
       "'a'"
      ]
     },
     "execution_count": 4,
     "metadata": {},
     "output_type": "execute_result"
    }
   ],
   "source": [
    "a='sambasiva'\n",
    "a[1]"
   ]
  },
  {
   "cell_type": "code",
   "execution_count": 5,
   "id": "8ba883aa",
   "metadata": {},
   "outputs": [
    {
     "data": {
      "text/plain": [
       "'a'"
      ]
     },
     "execution_count": 5,
     "metadata": {},
     "output_type": "execute_result"
    }
   ],
   "source": [
    "a[-1]"
   ]
  },
  {
   "cell_type": "code",
   "execution_count": 6,
   "id": "bb503663",
   "metadata": {},
   "outputs": [
    {
     "data": {
      "text/plain": [
       "'avisabmas'"
      ]
     },
     "execution_count": 6,
     "metadata": {},
     "output_type": "execute_result"
    }
   ],
   "source": [
    "a[::-1]"
   ]
  },
  {
   "cell_type": "code",
   "execution_count": 7,
   "id": "25635aef",
   "metadata": {},
   "outputs": [
    {
     "data": {
      "text/plain": [
       "'ambasiv'"
      ]
     },
     "execution_count": 7,
     "metadata": {},
     "output_type": "execute_result"
    }
   ],
   "source": [
    "a[1:-1]"
   ]
  },
  {
   "cell_type": "code",
   "execution_count": 10,
   "id": "9bb4d1d9",
   "metadata": {},
   "outputs": [
    {
     "data": {
      "text/plain": [
       "'accounts-01-10-2022.csv'"
      ]
     },
     "execution_count": 10,
     "metadata": {},
     "output_type": "execute_result"
    }
   ],
   "source": [
    "a='accounts-01-10-2022.csv'\n",
    "a"
   ]
  },
  {
   "cell_type": "code",
   "execution_count": 12,
   "id": "a8ce0d9c",
   "metadata": {},
   "outputs": [
    {
     "data": {
      "text/plain": [
       "str"
      ]
     },
     "execution_count": 12,
     "metadata": {},
     "output_type": "execute_result"
    }
   ],
   "source": [
    "type(a)"
   ]
  },
  {
   "cell_type": "code",
   "execution_count": 15,
   "id": "5d5bc6cb",
   "metadata": {},
   "outputs": [
    {
     "data": {
      "text/plain": [
       "['accounts-01-10-2022.csv']"
      ]
     },
     "execution_count": 15,
     "metadata": {},
     "output_type": "execute_result"
    }
   ],
   "source": [
    "a.split()"
   ]
  },
  {
   "cell_type": "code",
   "execution_count": 16,
   "id": "4b7085a4",
   "metadata": {},
   "outputs": [
    {
     "data": {
      "text/plain": [
       "str"
      ]
     },
     "execution_count": 16,
     "metadata": {},
     "output_type": "execute_result"
    }
   ],
   "source": [
    "type(a)"
   ]
  },
  {
   "cell_type": "code",
   "execution_count": 17,
   "id": "fa6e18b8",
   "metadata": {},
   "outputs": [
    {
     "name": "stdout",
     "output_type": "stream",
     "text": [
      "sambasiva\n"
     ]
    }
   ],
   "source": [
    "a='samba'\n",
    "b='siva'\n",
    "print(a+b)"
   ]
  },
  {
   "cell_type": "code",
   "execution_count": 18,
   "id": "a00ad0ce",
   "metadata": {},
   "outputs": [
    {
     "data": {
      "text/plain": [
       "'sambasiva'"
      ]
     },
     "execution_count": 18,
     "metadata": {},
     "output_type": "execute_result"
    }
   ],
   "source": [
    "res=a+b\n",
    "res"
   ]
  },
  {
   "cell_type": "code",
   "execution_count": 19,
   "id": "9b5fa51e",
   "metadata": {},
   "outputs": [
    {
     "name": "stdout",
     "output_type": "stream",
     "text": [
      "SAMBASIVA\n"
     ]
    }
   ],
   "source": [
    "print(res.upper())"
   ]
  },
  {
   "cell_type": "code",
   "execution_count": 20,
   "id": "9937bcf2",
   "metadata": {},
   "outputs": [
    {
     "data": {
      "text/plain": [
       "'a'"
      ]
     },
     "execution_count": 20,
     "metadata": {},
     "output_type": "execute_result"
    }
   ],
   "source": [
    "a='sambasiva'\n",
    "a[1]"
   ]
  },
  {
   "cell_type": "code",
   "execution_count": 21,
   "id": "b898c7b5",
   "metadata": {},
   "outputs": [
    {
     "ename": "TypeError",
     "evalue": "'str' object does not support item assignment",
     "output_type": "error",
     "traceback": [
      "\u001b[1;31m---------------------------------------------------------------------------\u001b[0m",
      "\u001b[1;31mTypeError\u001b[0m                                 Traceback (most recent call last)",
      "Input \u001b[1;32mIn [21]\u001b[0m, in \u001b[0;36m<cell line: 1>\u001b[1;34m()\u001b[0m\n\u001b[1;32m----> 1\u001b[0m a[\u001b[38;5;241m1\u001b[39m]\u001b[38;5;241m=\u001b[39m\u001b[38;5;124m'\u001b[39m\u001b[38;5;124mf\u001b[39m\u001b[38;5;124m'\u001b[39m\n",
      "\u001b[1;31mTypeError\u001b[0m: 'str' object does not support item assignment"
     ]
    }
   ],
   "source": [
    "a[1]='f'"
   ]
  },
  {
   "cell_type": "code",
   "execution_count": 22,
   "id": "c65e9a57",
   "metadata": {},
   "outputs": [
    {
     "data": {
      "text/plain": [
       "[1, 2, 'samba', True]"
      ]
     },
     "execution_count": 22,
     "metadata": {},
     "output_type": "execute_result"
    }
   ],
   "source": [
    "lst=[1,2,'samba',True]\n",
    "lst"
   ]
  },
  {
   "cell_type": "code",
   "execution_count": 23,
   "id": "9d329f50",
   "metadata": {},
   "outputs": [
    {
     "data": {
      "text/plain": [
       "2"
      ]
     },
     "execution_count": 23,
     "metadata": {},
     "output_type": "execute_result"
    }
   ],
   "source": [
    "lst[1]"
   ]
  },
  {
   "cell_type": "code",
   "execution_count": 25,
   "id": "c84b7524",
   "metadata": {},
   "outputs": [
    {
     "data": {
      "text/plain": [
       "[1, 4, 'samba', True]"
      ]
     },
     "execution_count": 25,
     "metadata": {},
     "output_type": "execute_result"
    }
   ],
   "source": [
    "lst[1]=4\n",
    "lst"
   ]
  },
  {
   "cell_type": "code",
   "execution_count": null,
   "id": "07fb3c3f",
   "metadata": {},
   "outputs": [],
   "source": []
  },
  {
   "cell_type": "code",
   "execution_count": 26,
   "id": "984f07c5",
   "metadata": {},
   "outputs": [
    {
     "data": {
      "text/plain": [
       "[1, 4, 'samba', True, 'siva']"
      ]
     },
     "execution_count": 26,
     "metadata": {},
     "output_type": "execute_result"
    }
   ],
   "source": [
    "lst.append('siva')\n",
    "lst"
   ]
  },
  {
   "cell_type": "code",
   "execution_count": 27,
   "id": "f836275d",
   "metadata": {},
   "outputs": [
    {
     "data": {
      "text/plain": [
       "[1, 4, 'samba', True]"
      ]
     },
     "execution_count": 27,
     "metadata": {},
     "output_type": "execute_result"
    }
   ],
   "source": [
    "lst.pop()\n",
    "lst"
   ]
  },
  {
   "cell_type": "code",
   "execution_count": 28,
   "id": "f0018802",
   "metadata": {},
   "outputs": [
    {
     "data": {
      "text/plain": [
       "[10, 20, 30, 40]"
      ]
     },
     "execution_count": 28,
     "metadata": {},
     "output_type": "execute_result"
    }
   ],
   "source": [
    "lst=[10,20,30,40]\n",
    "lst\n"
   ]
  },
  {
   "cell_type": "code",
   "execution_count": 30,
   "id": "7caee3b0",
   "metadata": {},
   "outputs": [
    {
     "name": "stdout",
     "output_type": "stream",
     "text": [
      "enter product namemobile\n",
      "enter product price1000\n",
      "product details:\n",
      " ['mobile', '1000']\n"
     ]
    }
   ],
   "source": [
    "p_name=input('enter product name')\n",
    "p_price=input('enter product price')\n",
    "res=[]\n",
    "res.append(p_name)\n",
    "res.append(p_price)\n",
    "print('product details:\\n',res)\n",
    "\n"
   ]
  },
  {
   "cell_type": "code",
   "execution_count": 34,
   "id": "d58f65b6",
   "metadata": {},
   "outputs": [
    {
     "name": "stdout",
     "output_type": "stream",
     "text": [
      "enter player first namesamba\n",
      "enter player last namesiva\n",
      "enter player gendermale\n",
      "enter player locationhyderabad\n"
     ]
    },
    {
     "data": {
      "text/plain": [
       "['SAMBASIVA', 'MALE', 'hyderabad']"
      ]
     },
     "execution_count": 34,
     "metadata": {},
     "output_type": "execute_result"
    }
   ],
   "source": [
    "p_fname=input('enter player first name')\n",
    "p_lname=input('enter player last name')\n",
    "p_gen=input('enter player gender')\n",
    "p_loc=input('enter player location')\n",
    "\n",
    "res=[]\n",
    "res.append((p_fname+p_lname).upper())\n",
    "res.append(p_gen.upper())\n",
    "res.append(p_loc)\n",
    "res\n",
    "\n",
    "\n",
    "\n",
    "\n",
    "\n"
   ]
  },
  {
   "cell_type": "code",
   "execution_count": 36,
   "id": "44b2675e",
   "metadata": {},
   "outputs": [
    {
     "data": {
      "text/plain": [
       "(1, 4, 2, 6, 8)"
      ]
     },
     "execution_count": 36,
     "metadata": {},
     "output_type": "execute_result"
    }
   ],
   "source": [
    "t=(1,4,2,6,8)\n",
    "type(t)\n",
    "t\n",
    "\n",
    "\n",
    "\n"
   ]
  },
  {
   "cell_type": "code",
   "execution_count": 37,
   "id": "c7d04890",
   "metadata": {},
   "outputs": [
    {
     "data": {
      "text/plain": [
       "4"
      ]
     },
     "execution_count": 37,
     "metadata": {},
     "output_type": "execute_result"
    }
   ],
   "source": [
    "t[1]"
   ]
  },
  {
   "cell_type": "code",
   "execution_count": 38,
   "id": "87f6f4fb",
   "metadata": {},
   "outputs": [
    {
     "data": {
      "text/plain": [
       "range(0, 3)"
      ]
     },
     "execution_count": 38,
     "metadata": {},
     "output_type": "execute_result"
    }
   ],
   "source": [
    "range(3)"
   ]
  },
  {
   "cell_type": "code",
   "execution_count": 41,
   "id": "b2f8df70",
   "metadata": {},
   "outputs": [
    {
     "name": "stdout",
     "output_type": "stream",
     "text": [
      "0\n",
      "1\n",
      "4\n"
     ]
    }
   ],
   "source": [
    "for i in range(4):\n",
    "    #print(i)\n",
    "    print(i*i)\n"
   ]
  },
  {
   "cell_type": "code",
   "execution_count": 45,
   "id": "c39955b6",
   "metadata": {},
   "outputs": [
    {
     "name": "stdout",
     "output_type": "stream",
     "text": [
      "s\n",
      "a\n",
      "m\n",
      "b\n",
      "a\n"
     ]
    }
   ],
   "source": [
    "st='samba'\n",
    "for x in st:\n",
    "    print(x)"
   ]
  },
  {
   "cell_type": "code",
   "execution_count": 78,
   "id": "59de368f",
   "metadata": {},
   "outputs": [
    {
     "name": "stdout",
     "output_type": "stream",
     "text": [
      "enter number of persons2\n",
      "enter your first name\n",
      "samba\n",
      "enter your last name\n",
      "siva\n",
      "enter your location\n",
      "hyd\n",
      "enter numebr of know languages2\n",
      "enter known languagetelugu\n",
      "enter known languagehindi\n",
      "enter your first name\n",
      "sai\n",
      "enter your last name\n",
      "ram\n",
      "enter your location\n",
      "hyd\n",
      "enter numebr of know languages3\n",
      "enter known languageenglish\n",
      "enter known languagehindi\n",
      "enter known languagetelugu\n",
      "All persons details are: [['SAMBASIVA', 'HYD', ['telugu', 'hindi']], ['SAIRAM', 'HYD', ['english', 'hindi', 'telugu']]]\n"
     ]
    }
   ],
   "source": [
    "n=int(input('enter number of persons'))\n",
    "final_res=[]\n",
    "for i in range(n):\n",
    "    fname=input('enter your first name\\n')\n",
    "    lname=input('enter your last name\\n')\n",
    "    loc=input('enter your location\\n')\n",
    "    \n",
    "    l=int(input('enter numebr of know languages'))\n",
    "    lan=[]\n",
    "    for x in range(l):\n",
    "        lang=input('enter known language')\n",
    "        lan.append(lang)\n",
    "    res=[]\n",
    "    res.append((fname+lname).upper())\n",
    "    res.append(loc.upper())\n",
    "    res.append(lan)\n",
    "    final_res.append(res)\n",
    "print('All persons details are:',final_res)"
   ]
  },
  {
   "cell_type": "code",
   "execution_count": 79,
   "id": "955c5c9a",
   "metadata": {},
   "outputs": [
    {
     "data": {
      "text/plain": [
       "{1, 2, 3, 5, 8, 10, 27}"
      ]
     },
     "execution_count": 79,
     "metadata": {},
     "output_type": "execute_result"
    }
   ],
   "source": [
    "s={1,2,3,10,27,5,8}\n",
    "s\n"
   ]
  },
  {
   "cell_type": "code",
   "execution_count": 80,
   "id": "136f6d88",
   "metadata": {},
   "outputs": [
    {
     "data": {
      "text/plain": [
       "{1, 2, 3, 5, 8, 10, 27}"
      ]
     },
     "execution_count": 80,
     "metadata": {},
     "output_type": "execute_result"
    }
   ],
   "source": [
    "s={1,2,3,3,5,10,27,5,8}\n",
    "s"
   ]
  },
  {
   "cell_type": "code",
   "execution_count": 83,
   "id": "be7170a4",
   "metadata": {},
   "outputs": [
    {
     "data": {
      "text/plain": [
       "{1, 2, 3, 5, 8, 10, 12, 27}"
      ]
     },
     "execution_count": 83,
     "metadata": {},
     "output_type": "execute_result"
    }
   ],
   "source": [
    "s.add(12)\n",
    "s"
   ]
  },
  {
   "cell_type": "code",
   "execution_count": 81,
   "id": "8a514f95",
   "metadata": {},
   "outputs": [
    {
     "data": {
      "text/plain": [
       "[1, 1, 2, 2, 3, 3, 9, 4, 4]"
      ]
     },
     "execution_count": 81,
     "metadata": {},
     "output_type": "execute_result"
    }
   ],
   "source": [
    "ls=[1,1,2,2,3,3,9,4,4]\n",
    "ls"
   ]
  },
  {
   "cell_type": "code",
   "execution_count": 85,
   "id": "5c24d2f0",
   "metadata": {},
   "outputs": [
    {
     "data": {
      "text/plain": [
       "tuple"
      ]
     },
     "execution_count": 85,
     "metadata": {},
     "output_type": "execute_result"
    }
   ],
   "source": [
    "a=10,\n",
    "type(a)"
   ]
  },
  {
   "cell_type": "code",
   "execution_count": 86,
   "id": "571674b1",
   "metadata": {},
   "outputs": [
    {
     "data": {
      "text/plain": [
       "tuple"
      ]
     },
     "execution_count": 86,
     "metadata": {},
     "output_type": "execute_result"
    }
   ],
   "source": [
    "a=(1,2,3,4)\n",
    "type(a)"
   ]
  },
  {
   "cell_type": "code",
   "execution_count": 111,
   "id": "1eaf136a",
   "metadata": {},
   "outputs": [
    {
     "data": {
      "text/plain": [
       "100"
      ]
     },
     "execution_count": 111,
     "metadata": {},
     "output_type": "execute_result"
    }
   ],
   "source": [
    "dc={'id':100,'name':'samba'}\n",
    "dc['id']"
   ]
  },
  {
   "cell_type": "code",
   "execution_count": 118,
   "id": "3e45dfaf",
   "metadata": {},
   "outputs": [
    {
     "name": "stdout",
     "output_type": "stream",
     "text": [
      "enter item namecarrot\n",
      "Enter item quantity\n",
      "3\n",
      "Purchase detail:\n",
      "Item\t:  carrot\n",
      "Quantity\t:  3\n",
      "Item Price\t:  60\n",
      "Total\t: 180\n"
     ]
    }
   ],
   "source": [
    "mt_price={\n",
    "        'tomoto':40,\n",
    "        'potato':50,\n",
    "        'carrot':60\n",
    "            }\n",
    "item_name=input('enter item name')\n",
    "item_price=mt_price[item_name]\n",
    "item_qty=int(input('Enter item quantity\\n'))\n",
    "print('Purchase detail:')\n",
    "print('Item\\t: ',item_name)\n",
    "print('Quantity\\t: ',item_qty)\n",
    "print('Item Price\\t: ',item_price)\n",
    "print('Total\\t:',item_price*item_qty)"
   ]
  },
  {
   "cell_type": "markdown",
   "id": "1ea0d32b",
   "metadata": {},
   "source": [
    "mt_price={\n",
    "        'tomoto':40,\n",
    "        'potato':50,\n",
    "        'carrot':60\n",
    "            }\n",
    "n=int(input('enter number items\\n'))\n",
    "total_items=[]\n",
    "for item in range(n):\n",
    "    item_name=input('enter item name')\n",
    "    item_price=mt_price[item_name]\n",
    "    item_qty=int(input('Enter item quantity\\n'))\n",
    "    item_dtl=[]\n",
    "    item_dtl.append(item_name)\n",
    "    \n",
    "    item_dtl.append(item_price)\n",
    "    \n",
    "    item_dtl.append(item_price)\n",
    "    item_dtl.append(item_price*item_qty)\n",
    "total_items.append(item_dtl)\n",
    "print('Item Details : ',total_items)"
   ]
  },
  {
   "cell_type": "code",
   "execution_count": 125,
   "id": "bea877f2",
   "metadata": {},
   "outputs": [
    {
     "name": "stdout",
     "output_type": "stream",
     "text": [
      "enter number items\n",
      "2\n",
      "enter item namepotato\n",
      "Enter item quantity\n",
      "2\n",
      "enter item namecarrot\n",
      "Enter item quantity\n",
      "3\n",
      "Item Details :  [['potato', 50, 50, 100], ['carrot', 60, 60, 180]]\n"
     ]
    }
   ],
   "source": [
    "mt_price={ 'tomoto':40, 'potato':50, 'carrot':60 } \n",
    "n=int(input('enter number items\\n')) \n",
    "total_items=[] \n",
    "for item in range(n): \n",
    "    item_name=input('enter item name') \n",
    "    item_price=mt_price[item_name] \n",
    "    item_qty=int(input('Enter item quantity\\n')) \n",
    "    item_dtl=[] \n",
    "    item_dtl.append(item_name)\n",
    "    item_dtl.append(item_price)\n",
    "\n",
    "    item_dtl.append(item_price)\n",
    "    item_dtl.append(item_price*item_qty)\n",
    "    total_items.append(item_dtl) \n",
    "print('Item Details : ',total_items)"
   ]
  },
  {
   "cell_type": "code",
   "execution_count": 128,
   "id": "84fb8685",
   "metadata": {},
   "outputs": [
    {
     "name": "stdout",
     "output_type": "stream",
     "text": [
      "enter your name\n",
      "samba\n",
      "enter your location\n",
      "hyd\n",
      "enter your PINCODE\n",
      "500001\n",
      "Registration Details:\n",
      " {'NAME': 'SAMBA', 'LOCATON': 'HYD', 'PINCODE': '500001'}\n"
     ]
    }
   ],
   "source": [
    "#registration\n",
    "nm=input('enter your name\\n')\n",
    "loc=input('enter your location\\n')\n",
    "pin=input('enter your PINCODE\\n')\n",
    "reg={}\n",
    "reg['NAME']=nm.upper()\n",
    "reg['LOCATON']=loc.upper()\n",
    "reg['PINCODE']=pin\n",
    "print('Registration Details:\\n', reg)\n",
    "\n",
    "\n"
   ]
  },
  {
   "cell_type": "code",
   "execution_count": 129,
   "id": "c475294a",
   "metadata": {},
   "outputs": [
    {
     "data": {
      "text/plain": [
       "11"
      ]
     },
     "execution_count": 129,
     "metadata": {},
     "output_type": "execute_result"
    }
   ],
   "source": [
    "a=10\n",
    "a+=1\n",
    "a"
   ]
  },
  {
   "cell_type": "code",
   "execution_count": 130,
   "id": "c62d133d",
   "metadata": {},
   "outputs": [
    {
     "data": {
      "text/plain": [
       "22"
      ]
     },
     "execution_count": 130,
     "metadata": {},
     "output_type": "execute_result"
    }
   ],
   "source": [
    "a*=2\n",
    "a"
   ]
  },
  {
   "cell_type": "code",
   "execution_count": 131,
   "id": "ae5b41b6",
   "metadata": {},
   "outputs": [
    {
     "name": "stdout",
     "output_type": "stream",
     "text": [
      "-22\n"
     ]
    }
   ],
   "source": [
    "print(-a)"
   ]
  },
  {
   "cell_type": "code",
   "execution_count": 132,
   "id": "5661b338",
   "metadata": {},
   "outputs": [
    {
     "name": "stdout",
     "output_type": "stream",
     "text": [
      "False\n"
     ]
    }
   ],
   "source": [
    "a=10\n",
    "b=20\n",
    "print(a==b)"
   ]
  },
  {
   "cell_type": "code",
   "execution_count": 133,
   "id": "d12b4c18",
   "metadata": {},
   "outputs": [
    {
     "name": "stdout",
     "output_type": "stream",
     "text": [
      "True\n"
     ]
    }
   ],
   "source": [
    "print(a!=b)"
   ]
  },
  {
   "cell_type": "code",
   "execution_count": 134,
   "id": "7b7a7acf",
   "metadata": {},
   "outputs": [
    {
     "data": {
      "text/plain": [
       "True"
      ]
     },
     "execution_count": 134,
     "metadata": {},
     "output_type": "execute_result"
    }
   ],
   "source": [
    "a<b"
   ]
  },
  {
   "cell_type": "code",
   "execution_count": 135,
   "id": "173c9dcc",
   "metadata": {},
   "outputs": [
    {
     "data": {
      "text/plain": [
       "30"
      ]
     },
     "execution_count": 135,
     "metadata": {},
     "output_type": "execute_result"
    }
   ],
   "source": [
    "c=30\n",
    "c\n"
   ]
  },
  {
   "cell_type": "code",
   "execution_count": 137,
   "id": "540b1805",
   "metadata": {},
   "outputs": [
    {
     "name": "stdout",
     "output_type": "stream",
     "text": [
      "False\n"
     ]
    }
   ],
   "source": [
    "print(a>b and a<c)"
   ]
  },
  {
   "cell_type": "code",
   "execution_count": 138,
   "id": "c28d3b22",
   "metadata": {},
   "outputs": [
    {
     "name": "stdout",
     "output_type": "stream",
     "text": [
      "True\n"
     ]
    }
   ],
   "source": [
    "print(a<b and a<c)"
   ]
  },
  {
   "cell_type": "code",
   "execution_count": 139,
   "id": "829f78c6",
   "metadata": {},
   "outputs": [
    {
     "name": "stdout",
     "output_type": "stream",
     "text": [
      "True\n"
     ]
    }
   ],
   "source": [
    "print(not a>b)"
   ]
  },
  {
   "cell_type": "code",
   "execution_count": 140,
   "id": "cd85a309",
   "metadata": {},
   "outputs": [
    {
     "data": {
      "text/plain": [
       "'samba'"
      ]
     },
     "execution_count": 140,
     "metadata": {},
     "output_type": "execute_result"
    }
   ],
   "source": [
    "a='samba'\n",
    "a"
   ]
  },
  {
   "cell_type": "code",
   "execution_count": 144,
   "id": "a7f6f2e2",
   "metadata": {},
   "outputs": [
    {
     "name": "stdout",
     "output_type": "stream",
     "text": [
      "True\n"
     ]
    }
   ],
   "source": [
    "print('m' in a)"
   ]
  },
  {
   "cell_type": "code",
   "execution_count": 146,
   "id": "a9ab6ed9",
   "metadata": {},
   "outputs": [
    {
     "name": "stdout",
     "output_type": "stream",
     "text": [
      "False\n"
     ]
    }
   ],
   "source": [
    "print('M' in a)"
   ]
  },
  {
   "cell_type": "code",
   "execution_count": 147,
   "id": "b7086bab",
   "metadata": {},
   "outputs": [
    {
     "name": "stdout",
     "output_type": "stream",
     "text": [
      "True\n"
     ]
    }
   ],
   "source": [
    "print('M' not in a)"
   ]
  },
  {
   "cell_type": "code",
   "execution_count": 148,
   "id": "4a2e98e0",
   "metadata": {},
   "outputs": [
    {
     "data": {
      "text/plain": [
       "[10.5, 'samba', 30]"
      ]
     },
     "execution_count": 148,
     "metadata": {},
     "output_type": "execute_result"
    }
   ],
   "source": [
    "str=[10.5,'samba',30]\n",
    "str"
   ]
  },
  {
   "cell_type": "code",
   "execution_count": 149,
   "id": "168c2815",
   "metadata": {},
   "outputs": [
    {
     "name": "stdout",
     "output_type": "stream",
     "text": [
      "True\n"
     ]
    }
   ],
   "source": [
    "print(10.5 in str)"
   ]
  },
  {
   "cell_type": "code",
   "execution_count": 150,
   "id": "8568052b",
   "metadata": {},
   "outputs": [
    {
     "name": "stdout",
     "output_type": "stream",
     "text": [
      "True\n"
     ]
    }
   ],
   "source": [
    "print('samba'in str)"
   ]
  },
  {
   "cell_type": "code",
   "execution_count": 159,
   "id": "482925ed",
   "metadata": {},
   "outputs": [
    {
     "name": "stdout",
     "output_type": "stream",
     "text": [
      "20\n"
     ]
    }
   ],
   "source": [
    "a=20\n",
    "b=20\n",
    "print(a|b)"
   ]
  },
  {
   "cell_type": "code",
   "execution_count": 163,
   "id": "7f143d4d",
   "metadata": {},
   "outputs": [
    {
     "name": "stdout",
     "output_type": "stream",
     "text": [
      "enter a number10\n",
      "positive numer\n"
     ]
    }
   ],
   "source": [
    "a=int(input('enter a number'))\n",
    "if a>0:\n",
    "    print('positive numer')\n",
    "else:\n",
    "    print('negative number')"
   ]
  },
  {
   "cell_type": "code",
   "execution_count": 164,
   "id": "cfd1f907",
   "metadata": {},
   "outputs": [
    {
     "name": "stdout",
     "output_type": "stream",
     "text": [
      "enter a number-10\n",
      "negative number\n"
     ]
    }
   ],
   "source": [
    "a=int(input('enter a number'))\n",
    "if a>0:\n",
    "    print('positive numer')\n",
    "else:\n",
    "    print('negative number')"
   ]
  },
  {
   "cell_type": "code",
   "execution_count": 166,
   "id": "10f9550e",
   "metadata": {},
   "outputs": [
    {
     "name": "stdout",
     "output_type": "stream",
     "text": [
      "enter a value: 10\n",
      "enter b value: 30\n",
      "b is big\n"
     ]
    }
   ],
   "source": [
    "a=int(input('enter a value: '))\n",
    "b=int(input('enter b value: '))\n",
    "if a<b:\n",
    "    print('b is big' )\n",
    "elif a>b:\n",
    "    print('a is big')\n",
    "else:\n",
    "    print('a is eual to b')"
   ]
  },
  {
   "cell_type": "code",
   "execution_count": 168,
   "id": "c1c9b269",
   "metadata": {},
   "outputs": [
    {
     "name": "stdout",
     "output_type": "stream",
     "text": [
      "enter city name\n",
      "mumbai\n",
      "city found\n"
     ]
    }
   ],
   "source": [
    "cities=['hyderbad','mumbai','chennai']\n",
    "city=input('enter city name\\n')\n",
    "if city in cities:\n",
    "    print('city found')\n",
    "else:\n",
    "    print('city not found')"
   ]
  },
  {
   "cell_type": "code",
   "execution_count": 171,
   "id": "98ee70ef",
   "metadata": {},
   "outputs": [
    {
     "name": "stdout",
     "output_type": "stream",
     "text": [
      "enter a number11\n",
      "Number is odd\n"
     ]
    }
   ],
   "source": [
    "a=int(input('enter a number'))\n",
    "if a%2==0:\n",
    "    print('Number is even')\n",
    "else:\n",
    "    print('Number is odd')"
   ]
  },
  {
   "cell_type": "code",
   "execution_count": null,
   "id": "032ce2c5",
   "metadata": {},
   "outputs": [],
   "source": [
    "ls=[0,1]\n",
    "value=0\n",
    "i=3\n",
    "while i < 10 :\n",
    "    value=ls[i-2+ls[i-3]\n",
    "    ls.append(value)\n",
    "    i+=1\n",
    "print(ls)"
   ]
  },
  {
   "cell_type": "code",
   "execution_count": null,
   "id": "e14821bf",
   "metadata": {},
   "outputs": [],
   "source": [
    "ls=[0,1]\n",
    "i=3\n",
    "while i < 10 :\n",
    "    value=ls[i-2+ls[i-3]\n",
    "    ls.append(value)\n",
    "    i=i+1\n",
    "             \n",
    "print(ls)"
   ]
  },
  {
   "cell_type": "code",
   "execution_count": null,
   "id": "b71f3d0a",
   "metadata": {},
   "outputs": [],
   "source": [
    "ls=[0,1]\n",
    "i=3\n",
    "while i < 10 :\n",
    "    value=ls[i-2]+ls[i-3]\n",
    "    ls.append(value)\n",
    "    i=i+1\n",
    "             \n",
    "print(ls)"
   ]
  },
  {
   "cell_type": "code",
   "execution_count": null,
   "id": "682cdd94",
   "metadata": {},
   "outputs": [],
   "source": [
    "ls=[0,1]\n",
    "print(ls)"
   ]
  },
  {
   "cell_type": "code",
   "execution_count": null,
   "id": "c7802259",
   "metadata": {},
   "outputs": [],
   "source": []
  }
 ],
 "metadata": {
  "kernelspec": {
   "display_name": "Python 3 (ipykernel)",
   "language": "python",
   "name": "python3"
  },
  "language_info": {
   "codemirror_mode": {
    "name": "ipython",
    "version": 3
   },
   "file_extension": ".py",
   "mimetype": "text/x-python",
   "name": "python",
   "nbconvert_exporter": "python",
   "pygments_lexer": "ipython3",
   "version": "3.9.12"
  }
 },
 "nbformat": 4,
 "nbformat_minor": 5
}
